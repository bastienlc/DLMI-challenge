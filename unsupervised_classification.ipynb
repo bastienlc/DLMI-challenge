{
 "cells": [
  {
   "cell_type": "code",
   "execution_count": null,
   "metadata": {
    "notebookRunGroups": {
     "groupValue": ""
    }
   },
   "outputs": [],
   "source": [
    "import matplotlib.pyplot as plt\n",
    "import numpy as np\n",
    "import pandas as pd\n",
    "from sklearn.preprocessing import MinMaxScaler\n",
    "from sklearn.utils import all_estimators\n",
    "\n",
    "from src.cross_validation import compare_models\n",
    "from src.data import preprocess_annotations"
   ]
  },
  {
   "cell_type": "markdown",
   "metadata": {},
   "source": [
    "## Data loading"
   ]
  },
  {
   "cell_type": "code",
   "execution_count": null,
   "metadata": {},
   "outputs": [],
   "source": [
    "train_annotations = preprocess_annotations(\n",
    "    pd.read_csv(\"data/trainset/trainset_true.csv\")\n",
    ")\n",
    "test_annotations = preprocess_annotations(pd.read_csv(\"data/testset/testset_data.csv\"))"
   ]
  },
  {
   "cell_type": "code",
   "execution_count": null,
   "metadata": {},
   "outputs": [],
   "source": [
    "train_class = pd.read_csv(\"data/train_class.csv\")\n",
    "test_class = pd.read_csv(\"data/test_class.csv\")\n",
    "\n",
    "train_dict = {}\n",
    "test_dict = {}\n",
    "\n",
    "for index, row in train_class.iterrows():\n",
    "    if row[\"id\"] in train_dict:\n",
    "        train_dict[row[\"id\"]].append(row[\"prediction\"])\n",
    "    else:\n",
    "        train_dict[row[\"id\"]] = [row[\"prediction\"]]\n",
    "for index, row in test_class.iterrows():\n",
    "    if row[\"id\"] in test_dict:\n",
    "        test_dict[row[\"id\"]].append(row[\"prediction\"])\n",
    "    else:\n",
    "        test_dict[row[\"id\"]] = [row[\"prediction\"]]\n",
    "\n",
    "train_annotations[\"CLASS\"] = train_annotations[\"ID\"].map(train_dict)\n",
    "test_annotations[\"CLASS\"] = test_annotations[\"ID\"].map(test_dict)"
   ]
  },
  {
   "cell_type": "code",
   "execution_count": null,
   "metadata": {},
   "outputs": [],
   "source": [
    "NB_CLASS = int(np.max(train_class[\"prediction\"]) + 1)\n",
    "FEATURES = [\"entropy\", \"variety\"]\n",
    "\n",
    "\n",
    "def class_list_to_feature(class_list, add_features):\n",
    "    feature = np.zeros(NB_CLASS)\n",
    "    for c in class_list:\n",
    "        feature[c] += 1\n",
    "    feature = feature / len(class_list)\n",
    "\n",
    "    if \"entropy\" in add_features:\n",
    "        feature = np.concatenate([feature, [-np.sum(feature * np.log(feature + 1e-3))]])\n",
    "    if \"variety\" in add_features:\n",
    "        feature = np.concatenate([feature, [len(np.unique(class_list))]])\n",
    "    if \"first_to_second\" in add_features:\n",
    "        count = np.bincount(class_list)\n",
    "        max_count = np.max(count)\n",
    "        second_max_count = np.max(count[count != max_count])\n",
    "        feature = np.concatenate([feature, [max_count / second_max_count]])\n",
    "    if \"total\" in add_features:\n",
    "        feature = np.concatenate([feature, [len(class_list)]])\n",
    "\n",
    "    return feature\n",
    "\n",
    "\n",
    "train_annotations[\"CLASS\"] = train_annotations[\"CLASS\"].apply(\n",
    "    lambda x: class_list_to_feature(x, FEATURES)\n",
    ")\n",
    "test_annotations[\"CLASS\"] = test_annotations[\"CLASS\"].apply(\n",
    "    lambda x: class_list_to_feature(x, FEATURES)\n",
    ")\n",
    "\n",
    "train_annotations = pd.concat(\n",
    "    [train_annotations, pd.DataFrame(train_annotations[\"CLASS\"].tolist())], axis=1\n",
    ").drop(\"CLASS\", axis=1)\n",
    "test_annotations = pd.concat(\n",
    "    [test_annotations, pd.DataFrame(test_annotations[\"CLASS\"].tolist())], axis=1\n",
    ").drop(\"CLASS\", axis=1)"
   ]
  },
  {
   "cell_type": "code",
   "execution_count": null,
   "metadata": {},
   "outputs": [],
   "source": [
    "x_train = train_annotations.drop(columns=[\"ID\", \"LABEL\"]).to_numpy()\n",
    "y_train = train_annotations[\"LABEL\"].to_numpy().astype(int)\n",
    "x_test = test_annotations.drop(columns=[\"ID\", \"LABEL\"]).to_numpy()\n",
    "\n",
    "\n",
    "print(f\"Training samples {len(x_train)}, Test samples {len(x_test)}\")"
   ]
  },
  {
   "cell_type": "code",
   "execution_count": null,
   "metadata": {},
   "outputs": [],
   "source": [
    "def add_outliers_feature(x, ref=None):\n",
    "    if ref is None:\n",
    "        ref = x\n",
    "    new_x = np.zeros((x.shape[0]))\n",
    "    for i in range(x.shape[1]):\n",
    "        q = np.percentile(ref[:, i], 90)\n",
    "        new_x += x[:, i] > q\n",
    "\n",
    "    return np.concatenate([x, new_x.reshape(-1, 1)], axis=1)\n",
    "\n",
    "\n",
    "x_train = add_outliers_feature(x_train)\n",
    "x_test = add_outliers_feature(x_test, ref=x_train)"
   ]
  },
  {
   "cell_type": "markdown",
   "metadata": {},
   "source": [
    "## Visualisation"
   ]
  },
  {
   "cell_type": "code",
   "execution_count": null,
   "metadata": {},
   "outputs": [],
   "source": [
    "features = (\n",
    "    [\"gender\", \"lymph_count\", \"age\"]\n",
    "    + [f\"class {i+1}\" for i in range(NB_CLASS)]\n",
    "    + FEATURES\n",
    "    + [\"outliers\"]\n",
    ")\n",
    "\n",
    "nb_features = len(features)\n",
    "nb_cols = 4\n",
    "nb_rows = nb_features // nb_cols + 1\n",
    "\n",
    "figs, axs = plt.subplots(nb_rows, nb_cols, figsize=(20, 4 * nb_rows))\n",
    "for i, col in enumerate(features):\n",
    "    data = [x_train[y_train == 0][:, i], x_train[y_train == 1][:, i]]\n",
    "\n",
    "    axs[i // nb_cols, i % nb_cols].boxplot(\n",
    "        data,\n",
    "        labels=[\"0\", \"1\"],\n",
    "        meanline=True,\n",
    "        showmeans=True,\n",
    "    )\n",
    "    axs[i // nb_cols, i % nb_cols].set_title(col)\n",
    "\n",
    "plt.show()"
   ]
  },
  {
   "cell_type": "markdown",
   "metadata": {},
   "source": [
    "## Model selection"
   ]
  },
  {
   "cell_type": "code",
   "execution_count": null,
   "metadata": {},
   "outputs": [],
   "source": [
    "features_scaler = MinMaxScaler()\n",
    "x_train = features_scaler.fit_transform(x_train)\n",
    "x_test = features_scaler.transform(x_test)"
   ]
  },
  {
   "cell_type": "code",
   "execution_count": null,
   "metadata": {},
   "outputs": [],
   "source": [
    "all_models = []\n",
    "\n",
    "filtered_models = [\n",
    "    \"ClassifierChain\",\n",
    "    \"MultiOutputClassifier\",\n",
    "    \"OneVsOneClassifier\",\n",
    "    \"OneVsRestClassifier\",\n",
    "    \"OutputCodeClassifier\",\n",
    "    \"StackingClassifier\",\n",
    "    \"VotingClassifier\",\n",
    "]\n",
    "\n",
    "manually_filtered_models = [\"CategoricalNB\", \"ComplementNB\", \"MultinomialNB\"]\n",
    "\n",
    "filtered_models += manually_filtered_models\n",
    "\n",
    "for model_name, model_class in all_estimators(type_filter=\"classifier\"):\n",
    "    if not model_name in filtered_models:\n",
    "        all_models.append((model_class(), model_name))"
   ]
  },
  {
   "cell_type": "code",
   "execution_count": null,
   "metadata": {},
   "outputs": [],
   "source": [
    "default_models_scores, default_labels = compare_models(\n",
    "    all_models, x_train, y_train, k_fold=5\n",
    ")"
   ]
  },
  {
   "cell_type": "code",
   "execution_count": null,
   "metadata": {},
   "outputs": [],
   "source": [
    "from sklearn.model_selection import train_test_split\n",
    "from sklearn.metrics import balanced_accuracy_score\n",
    "from src.config import CONFIG\n",
    "from sklearn.naive_bayes import GaussianNB\n",
    "\n",
    "\n",
    "x_a, x_b, y_a, y_b = train_test_split(\n",
    "    x_train, y_train, test_size=0.2, random_state=CONFIG.SEED, stratify=y_train\n",
    ")\n",
    "\n",
    "model = GaussianNB()\n",
    "model.fit(x_a, y_a)\n",
    "\n",
    "print(\"train score\", balanced_accuracy_score(y_a, model.predict(x_a)))\n",
    "print(\"val score\", balanced_accuracy_score(y_b, model.predict(x_b)))"
   ]
  },
  {
   "cell_type": "code",
   "execution_count": null,
   "metadata": {},
   "outputs": [],
   "source": [
    "from src.utils import save\n",
    "\n",
    "model = GaussianNB()\n",
    "model.fit(x_train, y_train)\n",
    "\n",
    "print(model.score(x_train, y_train))\n",
    "\n",
    "y_pred = model.predict(x_test)\n",
    "\n",
    "save(y_pred, test_annotations[\"ID\"].to_list())"
   ]
  }
 ],
 "metadata": {
  "kernelspec": {
   "display_name": "altegrad",
   "language": "python",
   "name": "python3"
  },
  "language_info": {
   "codemirror_mode": {
    "name": "ipython",
    "version": 3
   },
   "file_extension": ".py",
   "mimetype": "text/x-python",
   "name": "python",
   "nbconvert_exporter": "python",
   "pygments_lexer": "ipython3",
   "version": "3.9.18"
  }
 },
 "nbformat": 4,
 "nbformat_minor": 2
}
